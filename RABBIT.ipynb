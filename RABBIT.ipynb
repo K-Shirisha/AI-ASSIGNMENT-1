class State:
    def __init__(self, rabbits):
        self.rabbits = rabbits

    def goalTest(self):
        return self.rabbits == "WWW-EEE"

    def moveGen(self):
        children = []
        rabbits = list(self.rabbits)
        for i in range(len(rabbits)):
            if rabbits[i] == 'E':
                # Move one step forward
                if i + 1 < len(rabbits) and rabbits[i + 1] == '-':
                    next_state = list(self.rabbits)
                    next_state[i], next_state[i + 1] = next_state[i + 1], next_state[i]
                    children.append(''.join(next_state))
                # Jump over one rabbit
                elif i + 2 < len(rabbits) and rabbits[i + 1] == 'W' and rabbits[i + 2] == '-':
                    next_state = list(self.rabbits)
                    next_state[i], next_state[i + 2] = next_state[i + 2], next_state[i]
                    children.append(''.join(next_state))
            elif rabbits[i] == 'W':
                # Move one step forward
                if i - 1 >= 0 and rabbits[i - 1] == '-':
                    next_state = list(self.rabbits)
                    next_state[i], next_state[i - 1] = next_state[i - 1], next_state[i]
                    children.append(''.join(next_state))
                # Jump over one rabbit
                elif i - 2 >= 0 and rabbits[i - 1] == 'E' and rabbits[i - 2] == '-':
                    next_state = list(self.rabbits)
                    next_state[i], next_state[i - 2] = next_state[i - 2], next_state[i]
                    children.append(''.join(next_state))
        return [State(child) for child in set(children)]

    def __str__(self):
        return self.rabbits


def bfs(initial_state):
    queue = [(initial_state, [initial_state])]
    visited = set([initial_state.rabbits])
    while queue:
        state, path = queue.pop(0)
        if state.goalTest():
            return path
        for next_state in state.moveGen():
            if next_state.rabbits not in visited:
                queue.append((next_state, path + [next_state]))
                visited.add(next_state.rabbits)
    return None


def dfs(initial_state, max_depth=50):
    stack = [(initial_state, [initial_state])]
    visited = set([initial_state.rabbits])
    while stack:
        state, path = stack.pop()
        if state.goalTest():
            return path
        if len(path) > max_depth:
            continue  # Prevent infinite loops
        for next_state in state.moveGen():
            if next_state.rabbits not in visited:
                stack.append((next_state, path + [next_state]))
                visited.add(next_state.rabbits)
    return None



initial_state = State("EEE-WWW")

print("BFS Solution ")
bfs_path = bfs(initial_state)
if bfs_path:
    for i, state in enumerate(bfs_path):
        print(f"State {i+1}: {state}")
else:
    print("No solution found with BFS")

print(" DFS Solution")
dfs_path = dfs(initial_state)
if dfs_path:
    for i, state in enumerate(dfs_path):
        print(f"State {i+1}: {state}")
else:
    print("No solution found with DFS")
