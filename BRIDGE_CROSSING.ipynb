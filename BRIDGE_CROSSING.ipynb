from collections import deque

class State:
    def __init__(self, amogh, ameya, grandmother, grandfather, umbrella):
        self.amogh = amogh
        self.ameya = ameya
        self.grandmother = grandmother
        self.grandfather = grandfather
        self.umbrella = umbrella

    def goalTest(self):
        return self.amogh == 'R' and self.ameya == 'R' and self.grandmother == 'R' and self.grandfather == 'R'

    def moveGen(self):
        children = []
        people = ['Amogh', 'Ameya', 'Grandmother', 'Grandfather']
        times = {'Amogh': 5, 'Ameya': 10, 'Grandmother': 20, 'Grandfather': 25}

        # Single person move
        for person in people:
            if getattr(self, person.lower()) == self.umbrella:
                new_state = State(
                    amogh=self._new_position('Amogh', person),
                    ameya=self._new_position('Ameya', person),
                    grandmother=self._new_position('Grandmother', person),
                    grandfather=self._new_position('Grandfather', person),
                    umbrella=self._opposite_side()
                )
                children.append((new_state, times[person]))

        # Two person move
        for i in range(len(people)):
            for j in range(i + 1, len(people)):
                person1, person2 = people[i], people[j]
                if getattr(self, person1.lower()) == self.umbrella and getattr(self, person2.lower()) == self.umbrella:
                    new_state = State(
                        amogh=self._new_position('Amogh', person1, person2),
                        ameya=self._new_position('Ameya', person1, person2),
                        grandmother=self._new_position('Grandmother', person1, person2),
                        grandfather=self._new_position('Grandfather', person1, person2),
                        umbrella=self._opposite_side()
                    )
                    children.append((new_state, max(times[person1], times[person2])))
        return children

    def _new_position(self, target, *movers):
        return self._opposite_side() if target in movers else getattr(self, target.lower())

    def _opposite_side(self):
        return 'R' if self.umbrella == 'L' else 'L'

    def __str__(self):
        return f"Amogh: {self.amogh}, Ameya: {self.ameya}, Grandmother: {self.grandmother}, Grandfather: {self.grandfather}, Umbrella: {self.umbrella}"

    def __hash__(self):
        return hash((self.amogh, self.ameya, self.grandmother, self.grandfather, self.umbrella))

    def __eq__(self, other):
        return (self.amogh, self.ameya, self.grandmother, self.grandfather, self.umbrella) == \
               (other.amogh, other.ameya, other.grandmother, other.grandfather, other.umbrella)

def bfs(initial_state):
    queue = deque([(initial_state, 0, [])])
    visited = set()
    while queue:
        state, time, path = queue.popleft()
        if state.goalTest():
            return path, time
        if state in visited:
            continue
        visited.add(state)
        for next_state, cost in state.moveGen():
            if time + cost <= 60:
                queue.append((next_state, time + cost, path + [(next_state, cost)]))
    return None

def dfs(initial_state):
    stack = [(initial_state, 0, [])]
    visited = set()
    while stack:
        state, time, path = stack.pop()
        if state.goalTest():
            return path, time
        if state in visited:
            continue
        visited.add(state)
        for next_state, cost in reversed(state.moveGen()):  # reversed for DFS ordering
            if time + cost <= 60:
                stack.append((next_state, time + cost, path + [(next_state, cost)]))
    return None

initial_state = State('L', 'L', 'L', 'L', 'L')

print(" BFS Solution ")
bfs_solution = bfs(initial_state)
if bfs_solution:
    path, total_time = bfs_solution
    for idx, (state, time_taken) in enumerate(path):
        print(f"Step {idx + 1}: {state}, Time Taken: {time_taken} minutes")
    print(f"Total Time: {total_time} minutes")
else:
    print("No solution found with BFS within 60 minutes.")

print("\nDFS Solution ")
dfs_solution = dfs(initial_state)
if dfs_solution:
    path, total_time = dfs_solution
    for idx, (state, time_taken) in enumerate(path):
        print(f"Step {idx + 1}: {state}, Time Taken: {time_taken} minutes")
    print(f"Total Time: {total_time} minutes")
else:
    print("No solution found with DFS within 60 minutes.")
